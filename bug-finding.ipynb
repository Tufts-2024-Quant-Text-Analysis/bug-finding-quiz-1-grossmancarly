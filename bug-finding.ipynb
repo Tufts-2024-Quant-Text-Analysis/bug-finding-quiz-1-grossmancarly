{
 "cells": [
  {
   "cell_type": "code",
   "execution_count": 2,
   "metadata": {},
   "outputs": [
    {
     "name": "stdout",
     "output_type": "stream",
     "text": [
      "Requirement already satisfied: annotated-types==0.7.0 in /opt/anaconda3/lib/python3.11/site-packages (from -r requirements.txt (line 1)) (0.7.0)\n",
      "Requirement already satisfied: appnope==0.1.4 in /opt/anaconda3/lib/python3.11/site-packages (from -r requirements.txt (line 2)) (0.1.4)\n",
      "Requirement already satisfied: asttokens==2.4.1 in /opt/anaconda3/lib/python3.11/site-packages (from -r requirements.txt (line 3)) (2.4.1)\n",
      "Requirement already satisfied: blis==1.0.1 in /opt/anaconda3/lib/python3.11/site-packages (from -r requirements.txt (line 4)) (1.0.1)\n",
      "Requirement already satisfied: cachetools==5.5.0 in /opt/anaconda3/lib/python3.11/site-packages (from -r requirements.txt (line 5)) (5.5.0)\n",
      "Requirement already satisfied: catalogue==2.0.10 in /opt/anaconda3/lib/python3.11/site-packages (from -r requirements.txt (line 6)) (2.0.10)\n",
      "Requirement already satisfied: certifi==2024.8.30 in /opt/anaconda3/lib/python3.11/site-packages (from -r requirements.txt (line 7)) (2024.8.30)\n",
      "Requirement already satisfied: charset-normalizer==3.4.0 in /opt/anaconda3/lib/python3.11/site-packages (from -r requirements.txt (line 8)) (3.4.0)\n",
      "Requirement already satisfied: click==8.1.7 in /opt/anaconda3/lib/python3.11/site-packages (from -r requirements.txt (line 9)) (8.1.7)\n",
      "Requirement already satisfied: cloudpathlib==0.20.0 in /opt/anaconda3/lib/python3.11/site-packages (from -r requirements.txt (line 10)) (0.20.0)\n",
      "Requirement already satisfied: comm==0.2.2 in /opt/anaconda3/lib/python3.11/site-packages (from -r requirements.txt (line 11)) (0.2.2)\n",
      "Requirement already satisfied: confection==0.1.5 in /opt/anaconda3/lib/python3.11/site-packages (from -r requirements.txt (line 12)) (0.1.5)\n",
      "Requirement already satisfied: cymem==2.0.8 in /opt/anaconda3/lib/python3.11/site-packages (from -r requirements.txt (line 13)) (2.0.8)\n",
      "Requirement already satisfied: debugpy==1.8.7 in /opt/anaconda3/lib/python3.11/site-packages (from -r requirements.txt (line 14)) (1.8.7)\n",
      "Requirement already satisfied: decorator==5.1.1 in /opt/anaconda3/lib/python3.11/site-packages (from -r requirements.txt (line 15)) (5.1.1)\n",
      "Requirement already satisfied: executing==2.1.0 in /opt/anaconda3/lib/python3.11/site-packages (from -r requirements.txt (line 16)) (2.1.0)\n",
      "Requirement already satisfied: frozendict==2.4.6 in /opt/anaconda3/lib/python3.11/site-packages (from -r requirements.txt (line 17)) (2.4.6)\n",
      "Requirement already satisfied: future==1.0.0 in /opt/anaconda3/lib/python3.11/site-packages (from -r requirements.txt (line 18)) (1.0.0)\n",
      "Requirement already satisfied: html5lib-modern==1.2 in /opt/anaconda3/lib/python3.11/site-packages (from -r requirements.txt (line 19)) (1.2)\n",
      "Requirement already satisfied: idna==3.10 in /opt/anaconda3/lib/python3.11/site-packages (from -r requirements.txt (line 20)) (3.10)\n",
      "Requirement already satisfied: ipykernel==6.29.5 in /opt/anaconda3/lib/python3.11/site-packages (from -r requirements.txt (line 21)) (6.29.5)\n",
      "Requirement already satisfied: ipython==8.28.0 in /opt/anaconda3/lib/python3.11/site-packages (from -r requirements.txt (line 22)) (8.28.0)\n",
      "Requirement already satisfied: jedi==0.19.1 in /opt/anaconda3/lib/python3.11/site-packages (from -r requirements.txt (line 23)) (0.19.1)\n",
      "Requirement already satisfied: Jinja2==3.1.4 in /opt/anaconda3/lib/python3.11/site-packages (from -r requirements.txt (line 24)) (3.1.4)\n",
      "Requirement already satisfied: jupyter_client==8.6.3 in /opt/anaconda3/lib/python3.11/site-packages (from -r requirements.txt (line 25)) (8.6.3)\n",
      "Requirement already satisfied: jupyter_core==5.7.2 in /opt/anaconda3/lib/python3.11/site-packages (from -r requirements.txt (line 26)) (5.7.2)\n",
      "Requirement already satisfied: langcodes==3.4.1 in /opt/anaconda3/lib/python3.11/site-packages (from -r requirements.txt (line 27)) (3.4.1)\n",
      "Requirement already satisfied: language_data==1.2.0 in /opt/anaconda3/lib/python3.11/site-packages (from -r requirements.txt (line 28)) (1.2.0)\n",
      "Requirement already satisfied: LinkHeader==0.4.3 in /opt/anaconda3/lib/python3.11/site-packages (from -r requirements.txt (line 29)) (0.4.3)\n",
      "Requirement already satisfied: lxml==5.3.0 in /opt/anaconda3/lib/python3.11/site-packages (from -r requirements.txt (line 30)) (5.3.0)\n",
      "Requirement already satisfied: marisa-trie==1.2.1 in /opt/anaconda3/lib/python3.11/site-packages (from -r requirements.txt (line 31)) (1.2.1)\n",
      "Requirement already satisfied: markdown-it-py==3.0.0 in /opt/anaconda3/lib/python3.11/site-packages (from -r requirements.txt (line 32)) (3.0.0)\n",
      "Requirement already satisfied: MarkupSafe==3.0.2 in /opt/anaconda3/lib/python3.11/site-packages (from -r requirements.txt (line 33)) (3.0.2)\n",
      "Requirement already satisfied: matplotlib-inline==0.1.7 in /opt/anaconda3/lib/python3.11/site-packages (from -r requirements.txt (line 34)) (0.1.7)\n",
      "Requirement already satisfied: mdurl==0.1.2 in /opt/anaconda3/lib/python3.11/site-packages (from -r requirements.txt (line 35)) (0.1.2)\n",
      "Requirement already satisfied: murmurhash==1.0.10 in /opt/anaconda3/lib/python3.11/site-packages (from -r requirements.txt (line 36)) (1.0.10)\n",
      "Requirement already satisfied: MyCapytain==3.0.2 in /opt/anaconda3/lib/python3.11/site-packages (from -r requirements.txt (line 37)) (3.0.2)\n",
      "Requirement already satisfied: nest-asyncio==1.6.0 in /opt/anaconda3/lib/python3.11/site-packages (from -r requirements.txt (line 38)) (1.6.0)\n",
      "Collecting numpy==2.0.2 (from -r requirements.txt (line 39))\n",
      "  Using cached numpy-2.0.2-cp311-cp311-macosx_14_0_arm64.whl.metadata (60 kB)\n",
      "Requirement already satisfied: packaging==24.1 in /opt/anaconda3/lib/python3.11/site-packages (from -r requirements.txt (line 40)) (24.1)\n",
      "Requirement already satisfied: pandas==2.2.3 in /opt/anaconda3/lib/python3.11/site-packages (from -r requirements.txt (line 41)) (2.2.3)\n",
      "Requirement already satisfied: parso==0.8.4 in /opt/anaconda3/lib/python3.11/site-packages (from -r requirements.txt (line 42)) (0.8.4)\n",
      "Requirement already satisfied: pexpect==4.9.0 in /opt/anaconda3/lib/python3.11/site-packages (from -r requirements.txt (line 43)) (4.9.0)\n",
      "Requirement already satisfied: platformdirs==4.3.6 in /opt/anaconda3/lib/python3.11/site-packages (from -r requirements.txt (line 44)) (4.3.6)\n",
      "Requirement already satisfied: preshed==3.0.9 in /opt/anaconda3/lib/python3.11/site-packages (from -r requirements.txt (line 45)) (3.0.9)\n",
      "Requirement already satisfied: prompt_toolkit==3.0.48 in /opt/anaconda3/lib/python3.11/site-packages (from -r requirements.txt (line 46)) (3.0.48)\n",
      "Requirement already satisfied: psutil==6.1.0 in /opt/anaconda3/lib/python3.11/site-packages (from -r requirements.txt (line 47)) (6.1.0)\n",
      "Requirement already satisfied: ptyprocess==0.7.0 in /opt/anaconda3/lib/python3.11/site-packages (from -r requirements.txt (line 48)) (0.7.0)\n",
      "Requirement already satisfied: pure_eval==0.2.3 in /opt/anaconda3/lib/python3.11/site-packages (from -r requirements.txt (line 49)) (0.2.3)\n",
      "Requirement already satisfied: pydantic==2.9.2 in /opt/anaconda3/lib/python3.11/site-packages (from -r requirements.txt (line 50)) (2.9.2)\n",
      "Requirement already satisfied: pydantic_core==2.23.4 in /opt/anaconda3/lib/python3.11/site-packages (from -r requirements.txt (line 51)) (2.23.4)\n",
      "Requirement already satisfied: Pygments==2.18.0 in /opt/anaconda3/lib/python3.11/site-packages (from -r requirements.txt (line 52)) (2.18.0)\n",
      "Requirement already satisfied: PyLD==2.0.4 in /opt/anaconda3/lib/python3.11/site-packages (from -r requirements.txt (line 53)) (2.0.4)\n",
      "Requirement already satisfied: pyparsing==3.2.0 in /opt/anaconda3/lib/python3.11/site-packages (from -r requirements.txt (line 54)) (3.2.0)\n",
      "Requirement already satisfied: python-dateutil==2.9.0.post0 in /opt/anaconda3/lib/python3.11/site-packages (from -r requirements.txt (line 55)) (2.9.0.post0)\n",
      "Requirement already satisfied: pytz==2024.2 in /opt/anaconda3/lib/python3.11/site-packages (from -r requirements.txt (line 56)) (2024.2)\n",
      "Requirement already satisfied: pyzmq==26.2.0 in /opt/anaconda3/lib/python3.11/site-packages (from -r requirements.txt (line 57)) (26.2.0)\n",
      "Requirement already satisfied: rdflib==7.1.0 in /opt/anaconda3/lib/python3.11/site-packages (from -r requirements.txt (line 58)) (7.1.0)\n",
      "Requirement already satisfied: rdflib-jsonld==0.6.2 in /opt/anaconda3/lib/python3.11/site-packages (from -r requirements.txt (line 59)) (0.6.2)\n",
      "Requirement already satisfied: requests==2.32.3 in /opt/anaconda3/lib/python3.11/site-packages (from -r requirements.txt (line 60)) (2.32.3)\n",
      "Requirement already satisfied: rich==13.9.2 in /opt/anaconda3/lib/python3.11/site-packages (from -r requirements.txt (line 61)) (13.9.2)\n",
      "Requirement already satisfied: setuptools==75.2.0 in /opt/anaconda3/lib/python3.11/site-packages (from -r requirements.txt (line 62)) (75.2.0)\n",
      "Requirement already satisfied: shellingham==1.5.4 in /opt/anaconda3/lib/python3.11/site-packages (from -r requirements.txt (line 63)) (1.5.4)\n",
      "Requirement already satisfied: six==1.16.0 in /opt/anaconda3/lib/python3.11/site-packages (from -r requirements.txt (line 64)) (1.16.0)\n",
      "Requirement already satisfied: smart-open==7.0.5 in /opt/anaconda3/lib/python3.11/site-packages (from -r requirements.txt (line 65)) (7.0.5)\n",
      "Requirement already satisfied: spacy==3.8.2 in /opt/anaconda3/lib/python3.11/site-packages (from -r requirements.txt (line 66)) (3.8.2)\n",
      "Requirement already satisfied: spacy-legacy==3.0.12 in /opt/anaconda3/lib/python3.11/site-packages (from -r requirements.txt (line 67)) (3.0.12)\n",
      "Requirement already satisfied: spacy-loggers==1.0.5 in /opt/anaconda3/lib/python3.11/site-packages (from -r requirements.txt (line 68)) (1.0.5)\n",
      "Requirement already satisfied: srsly==2.4.8 in /opt/anaconda3/lib/python3.11/site-packages (from -r requirements.txt (line 69)) (2.4.8)\n",
      "Requirement already satisfied: stack-data==0.6.3 in /opt/anaconda3/lib/python3.11/site-packages (from -r requirements.txt (line 70)) (0.6.3)\n",
      "Requirement already satisfied: thinc==8.3.2 in /opt/anaconda3/lib/python3.11/site-packages (from -r requirements.txt (line 71)) (8.3.2)\n",
      "Requirement already satisfied: tornado==6.4.1 in /opt/anaconda3/lib/python3.11/site-packages (from -r requirements.txt (line 72)) (6.4.1)\n",
      "Requirement already satisfied: tqdm==4.66.5 in /opt/anaconda3/lib/python3.11/site-packages (from -r requirements.txt (line 73)) (4.66.5)\n",
      "Requirement already satisfied: traitlets==5.14.3 in /opt/anaconda3/lib/python3.11/site-packages (from -r requirements.txt (line 74)) (5.14.3)\n",
      "Requirement already satisfied: typer==0.12.5 in /opt/anaconda3/lib/python3.11/site-packages (from -r requirements.txt (line 75)) (0.12.5)\n",
      "Requirement already satisfied: typing==3.7.4.3 in /opt/anaconda3/lib/python3.11/site-packages (from -r requirements.txt (line 76)) (3.7.4.3)\n",
      "Requirement already satisfied: typing_extensions==4.12.2 in /opt/anaconda3/lib/python3.11/site-packages (from -r requirements.txt (line 77)) (4.12.2)\n",
      "Requirement already satisfied: tzdata==2024.2 in /opt/anaconda3/lib/python3.11/site-packages (from -r requirements.txt (line 78)) (2024.2)\n",
      "Requirement already satisfied: urllib3==2.2.3 in /opt/anaconda3/lib/python3.11/site-packages (from -r requirements.txt (line 79)) (2.2.3)\n",
      "Requirement already satisfied: wasabi==1.1.3 in /opt/anaconda3/lib/python3.11/site-packages (from -r requirements.txt (line 80)) (1.1.3)\n",
      "Requirement already satisfied: wcwidth==0.2.13 in /opt/anaconda3/lib/python3.11/site-packages (from -r requirements.txt (line 81)) (0.2.13)\n",
      "Requirement already satisfied: weasel==0.4.1 in /opt/anaconda3/lib/python3.11/site-packages (from -r requirements.txt (line 82)) (0.4.1)\n",
      "Requirement already satisfied: wrapt==1.16.0 in /opt/anaconda3/lib/python3.11/site-packages (from -r requirements.txt (line 83)) (1.16.0)\n",
      "Using cached numpy-2.0.2-cp311-cp311-macosx_14_0_arm64.whl (5.3 MB)\n",
      "Installing collected packages: numpy\n",
      "  Attempting uninstall: numpy\n",
      "    Found existing installation: numpy 1.24.3\n",
      "    Uninstalling numpy-1.24.3:\n",
      "      Successfully uninstalled numpy-1.24.3\n",
      "\u001b[31mERROR: pip's dependency resolver does not currently take into account all the packages that are installed. This behaviour is the source of the following dependency conflicts.\n",
      "gensim 4.3.3 requires numpy<2.0,>=1.18.5, but you have numpy 2.0.2 which is incompatible.\n",
      "contourpy 1.2.0 requires numpy<2.0,>=1.20, but you have numpy 2.0.2 which is incompatible.\n",
      "en-core-web-sm 3.7.1 requires spacy<3.8.0,>=3.7.2, but you have spacy 3.8.2 which is incompatible.\n",
      "grc-proiel-trf 3.7.5 requires spacy<3.8.0,>=3.7.5, but you have spacy 3.8.2 which is incompatible.\n",
      "grc-proiel-sm 3.7.5 requires spacy<3.8.0,>=3.7.5, but you have spacy 3.8.2 which is incompatible.\u001b[0m\u001b[31m\n",
      "\u001b[0mSuccessfully installed numpy-2.0.2\n",
      "\n",
      "\u001b[1m[\u001b[0m\u001b[34;49mnotice\u001b[0m\u001b[1;39;49m]\u001b[0m\u001b[39;49m A new release of pip is available: \u001b[0m\u001b[31;49m24.0\u001b[0m\u001b[39;49m -> \u001b[0m\u001b[32;49m24.2\u001b[0m\n",
      "\u001b[1m[\u001b[0m\u001b[34;49mnotice\u001b[0m\u001b[1;39;49m]\u001b[0m\u001b[39;49m To update, run: \u001b[0m\u001b[32;49mpip install --upgrade pip\u001b[0m\n",
      "Note: you may need to restart the kernel to use updated packages.\n"
     ]
    }
   ],
   "source": [
    "%pip install -r requirements.txt"
   ]
  },
  {
   "cell_type": "code",
   "execution_count": 4,
   "metadata": {},
   "outputs": [
    {
     "name": "stdout",
     "output_type": "stream",
     "text": [
      "Requirement already satisfied: numpy==1.24.3 in /opt/anaconda3/lib/python3.11/site-packages (1.24.3)\n",
      "\n",
      "\u001b[1m[\u001b[0m\u001b[34;49mnotice\u001b[0m\u001b[1;39;49m]\u001b[0m\u001b[39;49m A new release of pip is available: \u001b[0m\u001b[31;49m24.0\u001b[0m\u001b[39;49m -> \u001b[0m\u001b[32;49m24.2\u001b[0m\n",
      "\u001b[1m[\u001b[0m\u001b[34;49mnotice\u001b[0m\u001b[1;39;49m]\u001b[0m\u001b[39;49m To update, run: \u001b[0m\u001b[32;49mpip install --upgrade pip\u001b[0m\n",
      "Note: you may need to restart the kernel to use updated packages.\n"
     ]
    }
   ],
   "source": [
    "%pip install --upgrade numpy==1.24.3"
   ]
  },
  {
   "cell_type": "code",
   "execution_count": 5,
   "metadata": {},
   "outputs": [
    {
     "name": "stdout",
     "output_type": "stream",
     "text": [
      "Collecting en-core-web-sm==3.8.0\n",
      "  Downloading https://github.com/explosion/spacy-models/releases/download/en_core_web_sm-3.8.0/en_core_web_sm-3.8.0-py3-none-any.whl (12.8 MB)\n",
      "\u001b[2K     \u001b[90m━━━━━━━━━━━━━━━━━━━━━━━━━━━━━━━━━━━━━━━━\u001b[0m \u001b[32m12.8/12.8 MB\u001b[0m \u001b[31m62.6 MB/s\u001b[0m eta \u001b[36m0:00:00\u001b[0m00:01\u001b[0m00:01\u001b[0m\n",
      "\u001b[?25hInstalling collected packages: en-core-web-sm\n",
      "  Attempting uninstall: en-core-web-sm\n",
      "    Found existing installation: en-core-web-sm 3.7.1\n",
      "    Uninstalling en-core-web-sm-3.7.1:\n",
      "      Successfully uninstalled en-core-web-sm-3.7.1\n",
      "Successfully installed en-core-web-sm-3.8.0\n",
      "\u001b[38;5;2m✔ Download and installation successful\u001b[0m\n",
      "You can now load the package via spacy.load('en_core_web_sm')\n",
      "\u001b[38;5;3m⚠ Restart to reload dependencies\u001b[0m\n",
      "If you are in a Jupyter or Colab notebook, you may need to restart Python in\n",
      "order to load all the package's dependencies. You can do this by selecting the\n",
      "'Restart kernel' or 'Restart runtime' option.\n"
     ]
    },
    {
     "name": "stderr",
     "output_type": "stream",
     "text": [
      "\n",
      "\u001b[1m[\u001b[0m\u001b[34;49mnotice\u001b[0m\u001b[1;39;49m]\u001b[0m\u001b[39;49m A new release of pip is available: \u001b[0m\u001b[31;49m24.0\u001b[0m\u001b[39;49m -> \u001b[0m\u001b[32;49m24.2\u001b[0m\n",
      "\u001b[1m[\u001b[0m\u001b[34;49mnotice\u001b[0m\u001b[1;39;49m]\u001b[0m\u001b[39;49m To update, run: \u001b[0m\u001b[32;49mpip install --upgrade pip\u001b[0m\n"
     ]
    }
   ],
   "source": [
    "%run -m spacy download en_core_web_sm"
   ]
  },
  {
   "cell_type": "code",
   "execution_count": 30,
   "metadata": {},
   "outputs": [],
   "source": [
    "from pathlib import Path\n",
    "\n",
    "import pandas as pd\n",
    "import spacy\n",
    "\n",
    "f = Path(f\"./tlg0525.tlg001.perseus-eng2.pickle\")\n",
    "\n",
    "def tokenize(df: pd.DataFrame):\n",
    "    model = \"en_core_web_sm\"\n",
    "\n",
    "    nlp = spacy.load(model, disable=[\"ner\"])\n",
    "\n",
    "    df[\"tokens\"] = df[\"unannotated_strings\"].apply(nlp.tokenizer)\n",
    "\n",
    "    raw_texts = [t for t in df[\"unannotated_strings\"]]\n",
    "    annotated_texts = nlp.pipe(raw_texts, batch_size=100)\n",
    "\n",
    "    df[\"nlp_docs\"] = list(annotated_texts)\n",
    "\n",
    "    return df\n",
    "\n",
    "df = tokenize(pd.read_pickle(f))"
   ]
  },
  {
   "cell_type": "markdown",
   "metadata": {},
   "source": [
    "# Bug 1\n",
    "\n",
    "Why is the function `expected_frequency_of_collocation(df: pd.DataFrame, node: str, collocate: str, window_size: int = 1)` returning `0.0` no matter what we pass to it?"
   ]
  },
  {
   "cell_type": "code",
   "execution_count": 50,
   "metadata": {},
   "outputs": [
    {
     "data": {
      "text/plain": [
       "3.2848751741271176"
      ]
     },
     "execution_count": 50,
     "metadata": {},
     "output_type": "execute_result"
    }
   ],
   "source": [
    "from collections import Counter\n",
    "\n",
    "def expected_frequency_of_collocation(df: pd.DataFrame, node: str, collocate: str, window_size: int = 1):\n",
    "    \"\"\"\n",
    "    `node` and `collocate` should be the string representations\n",
    "    of the associated lemmata\n",
    "    \"\"\"\n",
    "    # The following (commented out) line was causing the issues because it  \n",
    "    # attempted to use the Doc object directly, which doesn't provide the individual \n",
    "    # words. By changing it to t.lemma_, you access the lemmatized form of each \n",
    "    # token in the Doc, allowing you to collect the correct base forms of the words \n",
    "    # for the analysis. \n",
    "\n",
    "    # lemmata = [t for t in df['nlp_docs'].explode()]\n",
    "    lemmata = [t.lemma_ for t in df['nlp_docs'].explode()]\n",
    "\n",
    "    counter = Counter(lemmata)\n",
    "    node_count = counter[node]\n",
    "    collocate_count = counter[collocate]\n",
    "\n",
    "    return (node_count * collocate_count * window_size) / len(lemmata)\n",
    "\n",
    "expected_freq_the_mainlaind = expected_frequency_of_collocation(df, \"mainland\", \"the\")\n",
    "\n",
    "expected_freq_the_mainlaind"
   ]
  },
  {
   "cell_type": "markdown",
   "metadata": {},
   "source": [
    "# Bug 1 analysis and response"
   ]
  },
  {
   "cell_type": "markdown",
   "metadata": {},
   "source": [
    "# Bug 2\n",
    "\n",
    "Why does the code below not give us the number of occurrences of the token \"the\"?"
   ]
  },
  {
   "cell_type": "code",
   "execution_count": 49,
   "metadata": {},
   "outputs": [
    {
     "data": {
      "text/plain": [
       "26932"
      ]
     },
     "execution_count": 49,
     "metadata": {},
     "output_type": "execute_result"
    }
   ],
   "source": [
    "# The original code observed_freq_the = df['tokens'].str.find('the') was attempting \n",
    "# to find the index of the substring \"the\" in each entry of the tokens column, \n",
    "# which contains spaCy Doc objects, rather than string values. As a result, it \n",
    "# returned NaN because the str.find() method is designed for string operations, \n",
    "# not for Doc objects. By using observed_freq_the = df['observed_freq_the'].sum(),\n",
    "# I aggregated the total counts of occurrences of \"the\" across all documents.\n",
    "\n",
    "# observed_freq_the = df['tokens'].str.find('the')\n",
    "\n",
    "observed_freq_the = df['observed_freq_the'].sum()\n",
    "observed_freq_the"
   ]
  },
  {
   "cell_type": "markdown",
   "metadata": {},
   "source": [
    "# Bug 2 analysis and response"
   ]
  },
  {
   "cell_type": "markdown",
   "metadata": {},
   "source": [
    "# Bug 3\n",
    "\n",
    "How is `o11` greater than `r1`, and why is our `o12` negative?"
   ]
  },
  {
   "cell_type": "code",
   "execution_count": 51,
   "metadata": {},
   "outputs": [
    {
     "name": "stdout",
     "output_type": "stream",
     "text": [
      "r1: 38, r2: 311516, c1: 26932, c2: 284622, o11: 34, o12: 4, o21: 26898\n"
     ]
    }
   ],
   "source": [
    "node = \"mainland\"\n",
    "collocate = \"the\"\n",
    "\n",
    "# The updated count_ngram_collocations function now identifies the indexes of the \n",
    "# target word within the token list, which allows it to check for the presence of\n",
    "#  the collocate within a specified window around each occurrence of w1. By using a \n",
    "# fixed window size with defined left and right bounds, the function ensures that \n",
    "# it counts each unique co-occurrence of w1 and w2 correctly, preventing overlaps \n",
    "# and ensuring accurate counts. This approach resolves the issue where the previous\n",
    "#  counting method might have mistakenly counted multiple collocations for the same \n",
    "# instance of w1.\n",
    "\n",
    "# def count_ngram_collocations(x, w1, w2, l_size: int = 1, r_size: int = 1):\n",
    "#     lemmata = [t.lemma_ for t in x]\n",
    "\n",
    "#     # the right-hand side of a slice in Python is exclusive, so we add 1 to make sure\n",
    "#     # we're actually getting one element to the right\n",
    "\n",
    "#     chunked_lemmata = [lemmata[i - l_size:i + r_size + 1] for i in range(0, len(lemmata))]\n",
    "    \n",
    "#     cooccurrences = [1 for l in chunked_lemmata if w1 in l and w2 in l]\n",
    "\n",
    "#     return sum(cooccurrences)\n",
    "\n",
    "def count_ngram_collocations(x, w1, w2, l_size: int = 2, r_size: int = 1):\n",
    "    lemmata = [t.lemma_ for t in x]\n",
    "    indexes = [i for i, lemma in enumerate(lemmata) if lemma == w1]\n",
    "    cooccurrences = 0\n",
    "    for i in indexes:\n",
    "        left = max(i - l_size, 0)\n",
    "        right = min(i + r_size + 1, len(lemmata))\n",
    "\n",
    "        window = lemmata[left:right]\n",
    "\n",
    "        if w2 in window:\n",
    "            cooccurrences += 1\n",
    "    return cooccurrences\n",
    "\n",
    "r1 = len([t for t in df[\"nlp_docs\"].explode() if t.lemma_ == node])\n",
    "r2 = len([t for t in df[\"nlp_docs\"].explode() if t.lemma_ != node])\n",
    "c1 = len([t for t in df[\"nlp_docs\"].explode() if t.lemma_ == collocate])\n",
    "c2 = len([t for t in df[\"nlp_docs\"].explode() if t.lemma_ != collocate])\n",
    "\n",
    "o11 = df[\"nlp_docs\"].apply(count_ngram_collocations, args=(node, collocate)).sum()\n",
    "o12 = r1 - o11\n",
    "o21 = c1 - o11\n",
    "\n",
    "print(f\"r1: {r1}, r2: {r2}, c1: {c1}, c2: {c2}, o11: {o11}, o12: {o12}, o21: {o21}\")"
   ]
  },
  {
   "cell_type": "markdown",
   "metadata": {},
   "source": [
    "# Bug 3 analysis and response"
   ]
  }
 ],
 "metadata": {
  "kernelspec": {
   "display_name": "base",
   "language": "python",
   "name": "python3"
  },
  "language_info": {
   "codemirror_mode": {
    "name": "ipython",
    "version": 3
   },
   "file_extension": ".py",
   "mimetype": "text/x-python",
   "name": "python",
   "nbconvert_exporter": "python",
   "pygments_lexer": "ipython3",
   "version": "3.11.9"
  }
 },
 "nbformat": 4,
 "nbformat_minor": 2
}
